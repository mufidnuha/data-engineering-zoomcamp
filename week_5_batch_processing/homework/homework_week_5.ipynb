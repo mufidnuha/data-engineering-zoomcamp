{
 "cells": [
  {
   "cell_type": "code",
   "execution_count": 1,
   "metadata": {},
   "outputs": [],
   "source": [
    "import pyspark\n",
    "import pandas as pd\n",
    "from pyspark.sql import SparkSession\n",
    "from pyspark.sql.types import *\n",
    "from pyspark.sql.functions import *\n",
    "import pyspark.sql.utils"
   ]
  },
  {
   "cell_type": "code",
   "execution_count": 2,
   "metadata": {},
   "outputs": [
    {
     "name": "stderr",
     "output_type": "stream",
     "text": [
      "WARNING: An illegal reflective access operation has occurred\n",
      "WARNING: Illegal reflective access by org.apache.spark.unsafe.Platform (file:/home/mufidnuha/spark/spark-3.0.3-bin-hadoop3.2/jars/spark-unsafe_2.12-3.0.3.jar) to constructor java.nio.DirectByteBuffer(long,int)\n",
      "WARNING: Please consider reporting this to the maintainers of org.apache.spark.unsafe.Platform\n",
      "WARNING: Use --illegal-access=warn to enable warnings of further illegal reflective access operations\n",
      "WARNING: All illegal access operations will be denied in a future release\n",
      "22/03/07 14:25:23 WARN NativeCodeLoader: Unable to load native-hadoop library for your platform... using builtin-java classes where applicable\n",
      "Using Spark's default log4j profile: org/apache/spark/log4j-defaults.properties\n",
      "Setting default log level to \"WARN\".\n",
      "To adjust logging level use sc.setLogLevel(newLevel). For SparkR, use setLogLevel(newLevel).\n"
     ]
    }
   ],
   "source": [
    "spark = SparkSession.builder \\\n",
    "        .master(\"local[*]\") \\\n",
    "        .appName('test') \\\n",
    "        .getOrCreate()"
   ]
  },
  {
   "cell_type": "markdown",
   "metadata": {},
   "source": [
    "### Q1"
   ]
  },
  {
   "cell_type": "code",
   "execution_count": 3,
   "metadata": {},
   "outputs": [
    {
     "data": {
      "text/plain": [
       "'3.0.3'"
      ]
     },
     "execution_count": 3,
     "metadata": {},
     "output_type": "execute_result"
    }
   ],
   "source": [
    "spark.version"
   ]
  },
  {
   "cell_type": "code",
   "execution_count": 3,
   "metadata": {},
   "outputs": [
    {
     "name": "stdout",
     "output_type": "stream",
     "text": [
      "--2022-03-07 14:22:33--  https://nyc-tlc.s3.amazonaws.com/trip+data/fhvhv_tripdata_2021-02.csv\n",
      "Resolving nyc-tlc.s3.amazonaws.com (nyc-tlc.s3.amazonaws.com)... 52.216.138.227\n",
      "Connecting to nyc-tlc.s3.amazonaws.com (nyc-tlc.s3.amazonaws.com)|52.216.138.227|:443... connected.\n",
      "HTTP request sent, awaiting response... 200 OK\n",
      "Length: 733822658 (700M) [text/csv]\n",
      "Saving to: ‘fhvhv_tripdata_2021-02.csv’\n",
      "\n",
      "fhvhv_tripdata_2021 100%[===================>] 699.83M  12.0MB/s    in 70s     \n",
      "\n",
      "2022-03-07 14:23:44 (10.1 MB/s) - ‘fhvhv_tripdata_2021-02.csv’ saved [733822658/733822658]\n",
      "\n"
     ]
    }
   ],
   "source": [
    "!wget https://nyc-tlc.s3.amazonaws.com/trip+data/fhvhv_tripdata_2021-02.csv"
   ]
  },
  {
   "cell_type": "code",
   "execution_count": 4,
   "metadata": {},
   "outputs": [
    {
     "name": "stderr",
     "output_type": "stream",
     "text": [
      "                                                                                \r"
     ]
    }
   ],
   "source": [
    "df = spark.read \\\n",
    "    .option(\"header\",\"true\") \\\n",
    "    .csv(\"fhvhv_tripdata_2021-02.csv\")\n",
    "\n",
    "df.repartition(24).write.parquet('fhvhv_tripdata/')"
   ]
  },
  {
   "cell_type": "markdown",
   "metadata": {},
   "source": [
    "### Q2"
   ]
  },
  {
   "cell_type": "code",
   "execution_count": 1,
   "metadata": {},
   "outputs": [
    {
     "name": "stdout",
     "output_type": "stream",
     "text": [
      "-rw-rw-r-- 1 mufidnuha mufidnuha 700M Oct 29 18:53 fhvhv_tripdata_2021-02.csv\n"
     ]
    }
   ],
   "source": [
    "!ls -lh fhvhv_tripdata_2021-02.csv"
   ]
  },
  {
   "cell_type": "code",
   "execution_count": 5,
   "metadata": {},
   "outputs": [
    {
     "name": "stdout",
     "output_type": "stream",
     "text": [
      "total 208M\n",
      "-rw-r--r-- 1 mufidnuha mufidnuha    0 Mar  7 14:27 _SUCCESS\n",
      "-rw-r--r-- 1 mufidnuha mufidnuha 8.7M Mar  7 14:26 part-00000-9525d93c-9706-48c3-b8db-3194e1ac4612-c000.snappy.parquet\n",
      "-rw-r--r-- 1 mufidnuha mufidnuha 8.7M Mar  7 14:26 part-00001-9525d93c-9706-48c3-b8db-3194e1ac4612-c000.snappy.parquet\n",
      "-rw-r--r-- 1 mufidnuha mufidnuha 8.7M Mar  7 14:26 part-00002-9525d93c-9706-48c3-b8db-3194e1ac4612-c000.snappy.parquet\n",
      "-rw-r--r-- 1 mufidnuha mufidnuha 8.7M Mar  7 14:26 part-00003-9525d93c-9706-48c3-b8db-3194e1ac4612-c000.snappy.parquet\n",
      "-rw-r--r-- 1 mufidnuha mufidnuha 8.7M Mar  7 14:26 part-00004-9525d93c-9706-48c3-b8db-3194e1ac4612-c000.snappy.parquet\n",
      "-rw-r--r-- 1 mufidnuha mufidnuha 8.7M Mar  7 14:26 part-00005-9525d93c-9706-48c3-b8db-3194e1ac4612-c000.snappy.parquet\n",
      "-rw-r--r-- 1 mufidnuha mufidnuha 8.7M Mar  7 14:26 part-00006-9525d93c-9706-48c3-b8db-3194e1ac4612-c000.snappy.parquet\n",
      "-rw-r--r-- 1 mufidnuha mufidnuha 8.7M Mar  7 14:26 part-00007-9525d93c-9706-48c3-b8db-3194e1ac4612-c000.snappy.parquet\n",
      "-rw-r--r-- 1 mufidnuha mufidnuha 8.7M Mar  7 14:26 part-00008-9525d93c-9706-48c3-b8db-3194e1ac4612-c000.snappy.parquet\n",
      "-rw-r--r-- 1 mufidnuha mufidnuha 8.7M Mar  7 14:26 part-00009-9525d93c-9706-48c3-b8db-3194e1ac4612-c000.snappy.parquet\n",
      "-rw-r--r-- 1 mufidnuha mufidnuha 8.7M Mar  7 14:26 part-00010-9525d93c-9706-48c3-b8db-3194e1ac4612-c000.snappy.parquet\n",
      "-rw-r--r-- 1 mufidnuha mufidnuha 8.7M Mar  7 14:26 part-00011-9525d93c-9706-48c3-b8db-3194e1ac4612-c000.snappy.parquet\n",
      "-rw-r--r-- 1 mufidnuha mufidnuha 8.7M Mar  7 14:27 part-00012-9525d93c-9706-48c3-b8db-3194e1ac4612-c000.snappy.parquet\n",
      "-rw-r--r-- 1 mufidnuha mufidnuha 8.7M Mar  7 14:27 part-00013-9525d93c-9706-48c3-b8db-3194e1ac4612-c000.snappy.parquet\n",
      "-rw-r--r-- 1 mufidnuha mufidnuha 8.7M Mar  7 14:27 part-00014-9525d93c-9706-48c3-b8db-3194e1ac4612-c000.snappy.parquet\n",
      "-rw-r--r-- 1 mufidnuha mufidnuha 8.7M Mar  7 14:27 part-00015-9525d93c-9706-48c3-b8db-3194e1ac4612-c000.snappy.parquet\n",
      "-rw-r--r-- 1 mufidnuha mufidnuha 8.7M Mar  7 14:27 part-00016-9525d93c-9706-48c3-b8db-3194e1ac4612-c000.snappy.parquet\n",
      "-rw-r--r-- 1 mufidnuha mufidnuha 8.7M Mar  7 14:27 part-00017-9525d93c-9706-48c3-b8db-3194e1ac4612-c000.snappy.parquet\n",
      "-rw-r--r-- 1 mufidnuha mufidnuha 8.7M Mar  7 14:27 part-00018-9525d93c-9706-48c3-b8db-3194e1ac4612-c000.snappy.parquet\n",
      "-rw-r--r-- 1 mufidnuha mufidnuha 8.7M Mar  7 14:27 part-00019-9525d93c-9706-48c3-b8db-3194e1ac4612-c000.snappy.parquet\n",
      "-rw-r--r-- 1 mufidnuha mufidnuha 8.7M Mar  7 14:27 part-00020-9525d93c-9706-48c3-b8db-3194e1ac4612-c000.snappy.parquet\n",
      "-rw-r--r-- 1 mufidnuha mufidnuha 8.7M Mar  7 14:27 part-00021-9525d93c-9706-48c3-b8db-3194e1ac4612-c000.snappy.parquet\n",
      "-rw-r--r-- 1 mufidnuha mufidnuha 8.7M Mar  7 14:27 part-00022-9525d93c-9706-48c3-b8db-3194e1ac4612-c000.snappy.parquet\n",
      "-rw-r--r-- 1 mufidnuha mufidnuha 8.7M Mar  7 14:27 part-00023-9525d93c-9706-48c3-b8db-3194e1ac4612-c000.snappy.parquet\n"
     ]
    }
   ],
   "source": [
    "!ls -lh fhvhv_tripdata/"
   ]
  },
  {
   "cell_type": "code",
   "execution_count": 6,
   "metadata": {},
   "outputs": [
    {
     "name": "stdout",
     "output_type": "stream",
     "text": [
      "+-----------------+--------------------+-------------------+-------------------+------------+------------+-------+\n",
      "|hvfhs_license_num|dispatching_base_num|    pickup_datetime|   dropoff_datetime|PULocationID|DOLocationID|SR_Flag|\n",
      "+-----------------+--------------------+-------------------+-------------------+------------+------------+-------+\n",
      "|           HV0003|              B02764|2021-02-01 00:10:40|2021-02-01 00:21:09|          35|          39|   null|\n",
      "|           HV0003|              B02764|2021-02-01 00:27:23|2021-02-01 00:44:01|          39|          35|   null|\n",
      "|           HV0005|              B02510|2021-02-01 00:28:38|2021-02-01 00:38:27|          39|          91|   null|\n",
      "|           HV0005|              B02510|2021-02-01 00:43:37|2021-02-01 01:23:20|          91|         228|   null|\n",
      "|           HV0003|              B02872|2021-02-01 00:08:42|2021-02-01 00:17:57|         126|         250|   null|\n",
      "|           HV0003|              B02872|2021-02-01 00:26:02|2021-02-01 00:42:51|         208|         243|   null|\n",
      "|           HV0003|              B02872|2021-02-01 00:45:50|2021-02-01 01:02:50|         243|         220|   null|\n",
      "|           HV0003|              B02764|2021-02-01 00:06:42|2021-02-01 00:31:50|          49|          37|   null|\n",
      "|           HV0003|              B02764|2021-02-01 00:34:34|2021-02-01 00:58:13|          37|          76|   null|\n",
      "|           HV0005|              B02510|2021-02-01 00:03:43|2021-02-01 00:39:37|          80|         241|   null|\n",
      "|           HV0005|              B02510|2021-02-01 00:55:36|2021-02-01 01:08:39|         174|          51|   null|\n",
      "|           HV0005|              B02510|2021-02-01 00:06:13|2021-02-01 00:33:45|         235|         129|   null|\n",
      "|           HV0005|              B02510|2021-02-01 00:42:24|2021-02-01 01:11:31|         129|         169|   null|\n",
      "|           HV0003|              B02764|2021-02-01 00:07:05|2021-02-01 00:20:53|         226|          82|   null|\n",
      "|           HV0003|              B02764|2021-02-01 00:28:56|2021-02-01 00:33:59|          82|         129|   null|\n",
      "|           HV0003|              B02764|2021-02-01 00:44:53|2021-02-01 01:07:54|           7|          79|   null|\n",
      "|           HV0003|              B02888|2021-02-01 00:17:55|2021-02-01 00:34:41|           4|         170|   null|\n",
      "|           HV0003|              B02888|2021-02-01 00:38:14|2021-02-01 00:59:20|         164|          42|   null|\n",
      "|           HV0004|              B02800|2021-02-01 00:08:04|2021-02-01 00:24:41|         237|           4|   null|\n",
      "|           HV0004|              B02800|2021-02-01 00:30:44|2021-02-01 00:41:26|         107|          45|   null|\n",
      "+-----------------+--------------------+-------------------+-------------------+------------+------------+-------+\n",
      "only showing top 20 rows\n",
      "\n"
     ]
    }
   ],
   "source": [
    "df.show()"
   ]
  },
  {
   "cell_type": "code",
   "execution_count": 7,
   "metadata": {},
   "outputs": [],
   "source": [
    "df.registerTempTable('trip_data')"
   ]
  },
  {
   "cell_type": "markdown",
   "metadata": {},
   "source": [
    "### Q3"
   ]
  },
  {
   "cell_type": "code",
   "execution_count": 21,
   "metadata": {},
   "outputs": [],
   "source": [
    "df_results = spark.sql(\"\"\"\n",
    "SELECT COUNT(*)\n",
    "FROM trip_data\n",
    "WHERE CAST(pickup_datetime AS DATE) = '2021-02-15'\n",
    "\"\"\")"
   ]
  },
  {
   "cell_type": "code",
   "execution_count": 22,
   "metadata": {},
   "outputs": [
    {
     "name": "stderr",
     "output_type": "stream",
     "text": [
      "[Stage 14:================================================>         (5 + 1) / 6]\r"
     ]
    },
    {
     "name": "stdout",
     "output_type": "stream",
     "text": [
      "+--------+\n",
      "|count(1)|\n",
      "+--------+\n",
      "|  367170|\n",
      "+--------+\n",
      "\n"
     ]
    },
    {
     "name": "stderr",
     "output_type": "stream",
     "text": [
      "                                                                                \r"
     ]
    }
   ],
   "source": [
    "df_results.show()"
   ]
  },
  {
   "cell_type": "markdown",
   "metadata": {},
   "source": [
    "### Q4"
   ]
  },
  {
   "cell_type": "code",
   "execution_count": 114,
   "metadata": {},
   "outputs": [],
   "source": [
    "duration_trip = spark.sql(\"\"\"\n",
    "SELECT \n",
    "    (unix_timestamp(dropoff_datetime) - unix_timestamp(pickup_datetime))/3600 AS duration,\n",
    "    CAST(pickup_datetime AS DATE) AS day\n",
    "FROM trip_data\n",
    "\"\"\")"
   ]
  },
  {
   "cell_type": "code",
   "execution_count": 115,
   "metadata": {},
   "outputs": [],
   "source": [
    "duration_trip.registerTempTable('duration_trip')\n",
    "longest_trip = spark.sql(\"\"\"\n",
    "SELECT\n",
    "    day\n",
    "FROM\n",
    "    duration_trip\n",
    "WHERE\n",
    "    duration = (SELECT MAX(duration) FROM duration_trip)\n",
    "\"\"\")"
   ]
  },
  {
   "cell_type": "code",
   "execution_count": 116,
   "metadata": {},
   "outputs": [
    {
     "name": "stderr",
     "output_type": "stream",
     "text": [
      "[Stage 94:>                                                         (0 + 1) / 1]\r"
     ]
    },
    {
     "name": "stdout",
     "output_type": "stream",
     "text": [
      "+----------+\n",
      "|       day|\n",
      "+----------+\n",
      "|2021-02-11|\n",
      "+----------+\n",
      "\n"
     ]
    },
    {
     "name": "stderr",
     "output_type": "stream",
     "text": [
      "                                                                                \r"
     ]
    }
   ],
   "source": [
    "longest_trip.show()"
   ]
  },
  {
   "cell_type": "markdown",
   "metadata": {},
   "source": [
    "### Q5"
   ]
  },
  {
   "cell_type": "code",
   "execution_count": 117,
   "metadata": {},
   "outputs": [],
   "source": [
    "df.registerTempTable('trip_data')"
   ]
  },
  {
   "cell_type": "code",
   "execution_count": 118,
   "metadata": {},
   "outputs": [],
   "source": [
    "freq_db = spark.sql(\"\"\"\n",
    "SELECT \n",
    "    dispatching_base_num, COUNT(dispatching_base_num) AS num_db\n",
    "FROM\n",
    "    trip_data\n",
    "GROUP BY dispatching_base_num\n",
    "\"\"\")"
   ]
  },
  {
   "cell_type": "code",
   "execution_count": 119,
   "metadata": {},
   "outputs": [],
   "source": [
    "freq_db.registerTempTable('freq_db')\n",
    "most_db = spark.sql(\"\"\"\n",
    "SELECT\n",
    "    dispatching_base_num\n",
    "FROM\n",
    "    freq_db\n",
    "WHERE\n",
    "    num_db = (SELECT MAX(num_db) FROM freq_db)\n",
    "\"\"\")"
   ]
  },
  {
   "cell_type": "code",
   "execution_count": 120,
   "metadata": {},
   "outputs": [
    {
     "name": "stderr",
     "output_type": "stream",
     "text": [
      "                                                                                \r"
     ]
    },
    {
     "name": "stdout",
     "output_type": "stream",
     "text": [
      "+--------------------+\n",
      "|dispatching_base_num|\n",
      "+--------------------+\n",
      "|              B02510|\n",
      "+--------------------+\n",
      "\n"
     ]
    }
   ],
   "source": [
    "most_db.show()"
   ]
  },
  {
   "cell_type": "code",
   "execution_count": null,
   "metadata": {},
   "outputs": [],
   "source": [
    "#answer: 3 stages"
   ]
  },
  {
   "cell_type": "markdown",
   "metadata": {},
   "source": [
    "### Q6"
   ]
  },
  {
   "cell_type": "code",
   "execution_count": 87,
   "metadata": {},
   "outputs": [
    {
     "name": "stdout",
     "output_type": "stream",
     "text": [
      "--2022-03-07 15:21:49--  https://s3.amazonaws.com/nyc-tlc/misc/taxi+_zone_lookup.csv\n",
      "Resolving s3.amazonaws.com (s3.amazonaws.com)... 52.217.169.168\n",
      "Connecting to s3.amazonaws.com (s3.amazonaws.com)|52.217.169.168|:443... connected.\n",
      "HTTP request sent, awaiting response... 200 OK\n",
      "Length: 12322 (12K) [application/octet-stream]\n",
      "Saving to: ‘taxi+_zone_lookup.csv’\n",
      "\n",
      "taxi+_zone_lookup.c 100%[===================>]  12.03K  --.-KB/s    in 0s      \n",
      "\n",
      "2022-03-07 15:21:50 (88.7 MB/s) - ‘taxi+_zone_lookup.csv’ saved [12322/12322]\n",
      "\n"
     ]
    }
   ],
   "source": [
    "!wget https://s3.amazonaws.com/nyc-tlc/misc/taxi+_zone_lookup.csv"
   ]
  },
  {
   "cell_type": "code",
   "execution_count": 88,
   "metadata": {},
   "outputs": [],
   "source": [
    "taxi_zone = spark.read \\\n",
    "            .option(\"header\",\"true\") \\\n",
    "            .csv('taxi+_zone_lookup.csv')"
   ]
  },
  {
   "cell_type": "code",
   "execution_count": 90,
   "metadata": {},
   "outputs": [],
   "source": [
    "df.registerTempTable('trip_data')\n",
    "taxi_zone.registerTempTable('taxi_zone')"
   ]
  },
  {
   "cell_type": "code",
   "execution_count": 106,
   "metadata": {},
   "outputs": [],
   "source": [
    "loc_pair = spark.sql(\"\"\"\n",
    "SELECT\n",
    "    PULocationID, tz.Zone, DOLocationID, tz2.Zone, CONCAT(tz.Zone, ' / ', tz2.Zone) AS zone_pair\n",
    "FROM\n",
    "    trip_data AS td\n",
    "        LEFT JOIN taxi_zone AS tz\n",
    "        ON td.PULocationID = tz.LocationID\n",
    "        LEFT JOIN taxi_zone AS tz2\n",
    "        ON td.DOLocationID = tz2.LocationID\n",
    "\"\"\")"
   ]
  },
  {
   "cell_type": "code",
   "execution_count": 108,
   "metadata": {},
   "outputs": [],
   "source": [
    "loc_pair.registerTempTable('loc_pair')"
   ]
  },
  {
   "cell_type": "code",
   "execution_count": 111,
   "metadata": {},
   "outputs": [],
   "source": [
    "most_pair = spark.sql(\"\"\"\n",
    "SELECT\n",
    "    zone_pair, COUNT(zone_pair) AS num_pair\n",
    "FROM\n",
    "    loc_pair\n",
    "GROUP BY zone_pair\n",
    "\"\"\")"
   ]
  },
  {
   "cell_type": "code",
   "execution_count": 112,
   "metadata": {},
   "outputs": [
    {
     "name": "stderr",
     "output_type": "stream",
     "text": [
      "[Stage 88:================================================>         (5 + 1) / 6]\r"
     ]
    },
    {
     "name": "stdout",
     "output_type": "stream",
     "text": [
      "+--------------------+--------+\n",
      "|           zone_pair|num_pair|\n",
      "+--------------------+--------+\n",
      "|  Midtown South / NA|    3380|\n",
      "|Hamilton Heights ...|    1452|\n",
      "|Hamilton Heights ...|     960|\n",
      "|Bedford Park / Be...|    5063|\n",
      "|Bushwick South / ...|     372|\n",
      "|    Inwood / Norwood|     664|\n",
      "|East Flatbush/Rem...|    5659|\n",
      "|Alphabet City / C...|     430|\n",
      "|Park Slope / Park...|    9771|\n",
      "|East Harlem South...|     107|\n",
      "|Homecrest / Grave...|    1522|\n",
      "|Eastchester / Hun...|     338|\n",
      "|TriBeCa/Civic Cen...|     566|\n",
      "|Norwood / Kensington|       4|\n",
      "|Greenwich Village...|     675|\n",
      "|Upper West Side N...|    1415|\n",
      "|Kew Gardens Hills...|     157|\n",
      "|Long Island City/...|    1487|\n",
      "|Brownsville / Two...|     160|\n",
      "|Soundview/Castle ...|      64|\n",
      "+--------------------+--------+\n",
      "only showing top 20 rows\n",
      "\n"
     ]
    },
    {
     "name": "stderr",
     "output_type": "stream",
     "text": [
      "                                                                                \r"
     ]
    }
   ],
   "source": [
    "most_pair.show()"
   ]
  },
  {
   "cell_type": "code",
   "execution_count": 113,
   "metadata": {},
   "outputs": [],
   "source": [
    "most_pair.registerTempTable('most_pair')"
   ]
  },
  {
   "cell_type": "code",
   "execution_count": 121,
   "metadata": {},
   "outputs": [],
   "source": [
    "most_common = spark.sql(\"\"\"\n",
    "SELECT\n",
    "    zone_pair\n",
    "FROM\n",
    "    most_pair\n",
    "WHERE\n",
    "    num_pair = (SELECT MAX(num_pair) FROM most_pair)\n",
    "\"\"\"\n",
    ")"
   ]
  },
  {
   "cell_type": "code",
   "execution_count": 122,
   "metadata": {},
   "outputs": [
    {
     "name": "stderr",
     "output_type": "stream",
     "text": [
      "                                                                                \r"
     ]
    },
    {
     "name": "stdout",
     "output_type": "stream",
     "text": [
      "+--------------------+\n",
      "|           zone_pair|\n",
      "+--------------------+\n",
      "|East New York / E...|\n",
      "+--------------------+\n",
      "\n"
     ]
    }
   ],
   "source": [
    "most_common.show()"
   ]
  },
  {
   "cell_type": "code",
   "execution_count": null,
   "metadata": {},
   "outputs": [],
   "source": []
  }
 ],
 "metadata": {
  "interpreter": {
   "hash": "b21a4f0f0a3d513ebc2bd20073d8790bb4e8c9fdc190da5c787837346593eda1"
  },
  "kernelspec": {
   "display_name": "Python 3.9.7 ('base')",
   "language": "python",
   "name": "python3"
  },
  "language_info": {
   "codemirror_mode": {
    "name": "ipython",
    "version": 3
   },
   "file_extension": ".py",
   "mimetype": "text/x-python",
   "name": "python",
   "nbconvert_exporter": "python",
   "pygments_lexer": "ipython3",
   "version": "3.9.7"
  },
  "orig_nbformat": 4
 },
 "nbformat": 4,
 "nbformat_minor": 2
}
