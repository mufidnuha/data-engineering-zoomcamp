{
 "cells": [
  {
   "cell_type": "code",
   "execution_count": 6,
   "metadata": {},
   "outputs": [],
   "source": [
    "import pyspark\n",
    "import pandas as pd\n",
    "from pyspark.sql import SparkSession\n",
    "from pyspark.sql.types import *\n",
    "from pyspark.sql.functions import *\n",
    "import pyspark.sql.utils"
   ]
  },
  {
   "cell_type": "code",
   "execution_count": 7,
   "metadata": {},
   "outputs": [],
   "source": [
    "spark = SparkSession.builder \\\n",
    "        .master(\"local[*]\") \\\n",
    "        .appName('test') \\\n",
    "        .getOrCreate()"
   ]
  },
  {
   "cell_type": "code",
   "execution_count": 28,
   "metadata": {},
   "outputs": [],
   "source": [
    "df_green = spark.read \\\n",
    "    .option(\"header\",\"true\") \\\n",
    "    .parquet(\"data/pq/green/*/*\")"
   ]
  },
  {
   "cell_type": "code",
   "execution_count": 29,
   "metadata": {},
   "outputs": [],
   "source": [
    "df_yellow = spark.read \\\n",
    "    .option(\"header\",\"true\") \\\n",
    "    .parquet(\"data/pq/yellow/*/*\")"
   ]
  },
  {
   "cell_type": "code",
   "execution_count": 30,
   "metadata": {},
   "outputs": [],
   "source": [
    "df_green = df_green.withColumnRenamed('lpep_pickup_datetime', 'pickup_datetime') \\\n",
    "                    .withColumnRenamed('lpep_dropoff_datetime', 'dropoff_datetime') \\\n",
    "                    .withColumn('service_type', lit('green'))\n",
    "\n",
    "df_yellow = df_yellow.withColumnRenamed('tpep_pickup_datetime', 'pickup_datetime') \\\n",
    "                    .withColumnRenamed('tpep_dropoff_datetime', 'dropoff_datetime') \\\n",
    "                    .withColumn('service_type', lit('yellow'))"
   ]
  },
  {
   "cell_type": "code",
   "execution_count": 31,
   "metadata": {},
   "outputs": [
    {
     "data": {
      "text/plain": [
       "['DOLocationID',\n",
       " 'RatecodeID',\n",
       " 'VendorID',\n",
       " 'extra',\n",
       " 'passenger_count',\n",
       " 'pickup_datetime',\n",
       " 'store_and_fwd_flag',\n",
       " 'total_amount',\n",
       " 'mta_tax',\n",
       " 'tip_amount',\n",
       " 'PULocationID',\n",
       " 'trip_distance',\n",
       " 'fare_amount',\n",
       " 'dropoff_datetime',\n",
       " 'congestion_surcharge',\n",
       " 'tolls_amount',\n",
       " 'service_type',\n",
       " 'payment_type',\n",
       " 'improvement_surcharge']"
      ]
     },
     "execution_count": 31,
     "metadata": {},
     "output_type": "execute_result"
    }
   ],
   "source": [
    "common_columns = []\n",
    "\n",
    "for col in set(df_green.columns):\n",
    "    if col in set(df_yellow.columns):\n",
    "        common_columns.append(col)\n",
    "\n",
    "common_columns"
   ]
  },
  {
   "cell_type": "code",
   "execution_count": 32,
   "metadata": {},
   "outputs": [],
   "source": [
    "df_green = df_green.select(common_columns)\n",
    "df_yellow = df_yellow.select(common_columns)"
   ]
  },
  {
   "cell_type": "code",
   "execution_count": 36,
   "metadata": {},
   "outputs": [],
   "source": [
    "trip_data = df_green.unionAll(df_yellow)"
   ]
  },
  {
   "cell_type": "code",
   "execution_count": 37,
   "metadata": {},
   "outputs": [
    {
     "name": "stdout",
     "output_type": "stream",
     "text": [
      "+------------+----------+--------+-----+---------------+-------------------+------------------+------------+-------+----------+------------+-------------+-----------+-------------------+--------------------+------------+------------+------------+---------------------+\n",
      "|DOLocationID|RatecodeID|VendorID|extra|passenger_count|    pickup_datetime|store_and_fwd_flag|total_amount|mta_tax|tip_amount|PULocationID|trip_distance|fare_amount|   dropoff_datetime|congestion_surcharge|tolls_amount|service_type|payment_type|improvement_surcharge|\n",
      "+------------+----------+--------+-----+---------------+-------------------+------------------+------------+-------+----------+------------+-------------+-----------+-------------------+--------------------+------------+------------+------------+---------------------+\n",
      "|         173|         1|       2|  1.0|              1|2020-01-16 19:49:27|                 N|        14.3|    0.5|       0.0|         260|         2.59|       12.5|2020-01-16 20:06:44|                 0.0|         0.0|       green|           2|                  0.3|\n",
      "|         211|         1|       2|  0.5|              1|2020-01-19 01:55:32|                 N|       25.05|    0.5|       0.0|         181|         6.25|       21.0|2020-01-19 02:17:06|                2.75|         0.0|       green|           2|                  0.3|\n",
      "|         244|         1|       2|  0.0|              1|2020-01-18 15:58:31|                 N|        14.3|    0.5|       1.0|          74|          2.8|       12.5|2020-01-18 16:14:46|                 0.0|         0.0|       green|           1|                  0.3|\n",
      "|         185|      null|    null|  0.0|           null|2020-01-03 09:37:00|              null|       11.69|    0.0|       0.0|          51|         2.55|      11.39|2020-01-03 09:48:00|                null|         0.0|       green|        null|                  0.3|\n",
      "|         146|         1|       2|  0.0|              1|2020-01-27 09:27:18|                 N|         3.3|    0.5|       0.0|         146|         0.02|        2.5|2020-01-27 09:27:23|                 0.0|         0.0|       green|           2|                  0.3|\n",
      "|         226|         1|       2|  0.0|              1|2020-01-14 09:33:35|                 N|       12.36|    0.5|      2.06|         129|         2.21|        9.5|2020-01-14 09:44:14|                 0.0|         0.0|       green|           1|                  0.3|\n",
      "|         194|         1|       2|  0.5|              1|2020-01-27 22:52:52|                 N|       16.42|    0.5|       0.0|          74|         2.26|        9.0|2020-01-27 22:59:00|                 0.0|        6.12|       green|           1|                  0.3|\n",
      "|         116|      null|    null| 2.75|           null|2020-01-19 07:35:00|              null|       41.34|    0.0|       0.0|          51|        10.87|      38.29|2020-01-19 07:59:00|                null|         0.0|       green|        null|                  0.3|\n",
      "|          74|         1|       2|  0.0|              1|2020-01-07 06:36:27|                 N|       15.38|    0.5|      3.08|         244|         3.05|       11.5|2020-01-07 06:48:27|                 0.0|         0.0|       green|           1|                  0.3|\n",
      "|         132|         5|       2|  0.0|              1|2020-01-17 21:06:51|                 N|       45.96|    0.0|      7.66|          66|        18.35|       38.0|2020-01-17 21:41:21|                 0.0|         0.0|       green|           1|                  0.3|\n",
      "|         143|         1|       2|  1.0|              1|2020-01-16 17:39:15|                 N|       17.05|    0.5|       0.0|          75|         2.45|       12.5|2020-01-16 17:56:25|                2.75|         0.0|       green|           2|                  0.3|\n",
      "|          74|         1|       2|  0.5|              1|2020-01-24 22:33:24|                 N|        31.3|    0.5|       0.0|          75|         0.62|       30.0|2020-01-24 23:28:48|                 0.0|         0.0|       green|           1|                  0.3|\n",
      "|          97|         1|       1|  0.5|              1|2020-01-09 23:58:57|                 N|       12.25|    0.5|      2.45|          65|          1.5|        8.5|2020-01-10 00:09:27|                 0.0|         0.0|       green|           1|                  0.3|\n",
      "|         135|         1|       2|  0.0|              1|2020-01-17 08:48:46|                 N|        11.8|    0.5|       0.0|          95|         2.38|       11.0|2020-01-17 09:01:12|                 0.0|         0.0|       green|           2|                  0.3|\n",
      "|          10|      null|    null| 2.75|           null|2020-01-28 20:59:00|              null|       59.79|    0.0|       0.0|          42|        15.78|      50.62|2020-01-28 21:28:00|                null|        6.12|       green|        null|                  0.3|\n",
      "|          82|         1|       2|  1.0|              1|2020-01-14 17:45:35|                 N|         8.8|    0.5|       0.0|         129|         0.89|        7.0|2020-01-14 17:54:31|                 0.0|         0.0|       green|           2|                  0.3|\n",
      "|          92|         1|       2|  0.0|              1|2020-01-26 17:11:06|                 N|        17.3|    0.5|       0.0|          95|         4.64|       16.5|2020-01-26 17:27:14|                 0.0|         0.0|       green|           2|                  0.3|\n",
      "|          42|         1|       2|  0.0|              1|2020-01-05 18:33:20|                 N|         9.8|    0.5|       3.0|          74|         0.97|        6.0|2020-01-05 18:39:20|                 0.0|         0.0|       green|           1|                  0.3|\n",
      "|          42|         1|       2|  0.5|              1|2020-01-12 20:53:46|                 N|         7.8|    0.5|       0.0|          74|         1.33|        6.5|2020-01-12 20:59:01|                 0.0|         0.0|       green|           2|                  0.3|\n",
      "|         140|         1|       2|  0.5|              1|2020-01-17 22:33:35|                 N|       19.26|    0.5|      3.21|          74|         3.02|       12.0|2020-01-17 22:47:30|                2.75|         0.0|       green|           1|                  0.3|\n",
      "+------------+----------+--------+-----+---------------+-------------------+------------------+------------+-------+----------+------------+-------------+-----------+-------------------+--------------------+------------+------------+------------+---------------------+\n",
      "only showing top 20 rows\n",
      "\n"
     ]
    }
   ],
   "source": [
    "trip_data.show()"
   ]
  },
  {
   "cell_type": "code",
   "execution_count": null,
   "metadata": {},
   "outputs": [],
   "source": []
  }
 ],
 "metadata": {
  "interpreter": {
   "hash": "b21a4f0f0a3d513ebc2bd20073d8790bb4e8c9fdc190da5c787837346593eda1"
  },
  "kernelspec": {
   "display_name": "Python 3.9.7 ('base')",
   "language": "python",
   "name": "python3"
  },
  "language_info": {
   "codemirror_mode": {
    "name": "ipython",
    "version": 3
   },
   "file_extension": ".py",
   "mimetype": "text/x-python",
   "name": "python",
   "nbconvert_exporter": "python",
   "pygments_lexer": "ipython3",
   "version": "3.9.7"
  },
  "orig_nbformat": 4
 },
 "nbformat": 4,
 "nbformat_minor": 2
}
